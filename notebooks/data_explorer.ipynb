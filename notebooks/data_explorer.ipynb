{
 "cells": [
  {
   "cell_type": "markdown",
   "metadata": {},
   "source": [
    "Author: Funsho Olaniyi\n",
    "\n",
    "Goal of this notebook is to Explore Data and Make sure values are not missing then export it back"
   ]
  },
  {
   "cell_type": "code",
   "execution_count": 17,
   "metadata": {},
   "outputs": [],
   "source": [
    "import pandas as pd\n",
    "import numpy as np"
   ]
  },
  {
   "cell_type": "markdown",
   "metadata": {},
   "source": [
    "Load Data"
   ]
  },
  {
   "cell_type": "code",
   "execution_count": 18,
   "metadata": {},
   "outputs": [],
   "source": [
    "crop_production = pd.read_csv(\"../data/ghana_production_estimates.csv\",encoding = \"latin\")"
   ]
  },
  {
   "cell_type": "markdown",
   "metadata": {},
   "source": [
    "Preview Data"
   ]
  },
  {
   "cell_type": "code",
   "execution_count": 19,
   "metadata": {
    "scrolled": true
   },
   "outputs": [
    {
     "data": {
      "text/html": [
       "<div>\n",
       "<style scoped>\n",
       "    .dataframe tbody tr th:only-of-type {\n",
       "        vertical-align: middle;\n",
       "    }\n",
       "\n",
       "    .dataframe tbody tr th {\n",
       "        vertical-align: top;\n",
       "    }\n",
       "\n",
       "    .dataframe thead th {\n",
       "        text-align: right;\n",
       "    }\n",
       "</style>\n",
       "<table border=\"1\" class=\"dataframe\">\n",
       "  <thead>\n",
       "    <tr style=\"text-align: right;\">\n",
       "      <th></th>\n",
       "      <th>REGION</th>\n",
       "      <th>DISTRICT</th>\n",
       "      <th>YEAR</th>\n",
       "      <th>CROP</th>\n",
       "      <th>AREA (HA)</th>\n",
       "      <th>YIELD (MT/HA)</th>\n",
       "      <th>PRODUCTION (MT)</th>\n",
       "    </tr>\n",
       "  </thead>\n",
       "  <tbody>\n",
       "    <tr>\n",
       "      <th>0</th>\n",
       "      <td>WESTERN</td>\n",
       "      <td>SHAMA AHANTA EAST</td>\n",
       "      <td>1993</td>\n",
       "      <td>MAIZE</td>\n",
       "      <td>366.00</td>\n",
       "      <td>0.95</td>\n",
       "      <td>348.00</td>\n",
       "    </tr>\n",
       "    <tr>\n",
       "      <th>1</th>\n",
       "      <td>WESTERN</td>\n",
       "      <td>WEST AHANTA</td>\n",
       "      <td>1993</td>\n",
       "      <td>MAIZE</td>\n",
       "      <td>1,513.00</td>\n",
       "      <td>1.00</td>\n",
       "      <td>1,513.00</td>\n",
       "    </tr>\n",
       "    <tr>\n",
       "      <th>2</th>\n",
       "      <td>WESTERN</td>\n",
       "      <td>MPORHOR WASSA EAST</td>\n",
       "      <td>1993</td>\n",
       "      <td>MAIZE</td>\n",
       "      <td>2,948.00</td>\n",
       "      <td>1.08</td>\n",
       "      <td>3,184.00</td>\n",
       "    </tr>\n",
       "    <tr>\n",
       "      <th>3</th>\n",
       "      <td>WESTERN</td>\n",
       "      <td>WASSA WEST</td>\n",
       "      <td>1993</td>\n",
       "      <td>MAIZE</td>\n",
       "      <td>3,672.00</td>\n",
       "      <td>1.00</td>\n",
       "      <td>3,672.00</td>\n",
       "    </tr>\n",
       "    <tr>\n",
       "      <th>4</th>\n",
       "      <td>WESTERN</td>\n",
       "      <td>EAST NZEMA</td>\n",
       "      <td>1993</td>\n",
       "      <td>MAIZE</td>\n",
       "      <td>1,050.00</td>\n",
       "      <td>0.85</td>\n",
       "      <td>893.00</td>\n",
       "    </tr>\n",
       "  </tbody>\n",
       "</table>\n",
       "</div>"
      ],
      "text/plain": [
       "    REGION            DISTRICT  YEAR   CROP   AREA (HA) YIELD (MT/HA)  \\\n",
       "0  WESTERN   SHAMA AHANTA EAST  1993  MAIZE     366.00          0.95    \n",
       "1  WESTERN         WEST AHANTA  1993  MAIZE   1,513.00          1.00    \n",
       "2  WESTERN  MPORHOR WASSA EAST  1993  MAIZE   2,948.00          1.08    \n",
       "3  WESTERN          WASSA WEST  1993  MAIZE   3,672.00          1.00    \n",
       "4  WESTERN          EAST NZEMA  1993  MAIZE   1,050.00          0.85    \n",
       "\n",
       "  PRODUCTION (MT)  \n",
       "0         348.00   \n",
       "1       1,513.00   \n",
       "2       3,184.00   \n",
       "3       3,672.00   \n",
       "4         893.00   "
      ]
     },
     "execution_count": 19,
     "metadata": {},
     "output_type": "execute_result"
    }
   ],
   "source": [
    "crop_production.head()"
   ]
  },
  {
   "cell_type": "code",
   "execution_count": 20,
   "metadata": {},
   "outputs": [
    {
     "name": "stdout",
     "output_type": "stream",
     "text": [
      "<class 'pandas.core.frame.DataFrame'>\n",
      "RangeIndex: 16075 entries, 0 to 16074\n",
      "Data columns (total 7 columns):\n",
      "REGION             16075 non-null object\n",
      "DISTRICT           16075 non-null object\n",
      "YEAR               16075 non-null int64\n",
      "CROP               16075 non-null object\n",
      "AREA (HA)          16075 non-null object\n",
      "YIELD (MT/HA)      16047 non-null object\n",
      "PRODUCTION (MT)    16072 non-null object\n",
      "dtypes: int64(1), object(6)\n",
      "memory usage: 879.2+ KB\n"
     ]
    }
   ],
   "source": [
    "crop_production.info()"
   ]
  },
  {
   "cell_type": "markdown",
   "metadata": {},
   "source": [
    "Remove Spaces around column names, just to be sure"
   ]
  },
  {
   "cell_type": "code",
   "execution_count": 4,
   "metadata": {},
   "outputs": [],
   "source": [
    "crop_production.columns = crop_production.columns.str.strip()"
   ]
  },
  {
   "cell_type": "markdown",
   "metadata": {},
   "source": [
    "Preview Columns Data Types"
   ]
  },
  {
   "cell_type": "code",
   "execution_count": 5,
   "metadata": {
    "scrolled": true
   },
   "outputs": [
    {
     "name": "stdout",
     "output_type": "stream",
     "text": [
      "<class 'pandas.core.frame.DataFrame'>\n",
      "RangeIndex: 16075 entries, 0 to 16074\n",
      "Data columns (total 7 columns):\n",
      "REGION             16075 non-null object\n",
      "DISTRICT           16075 non-null object\n",
      "YEAR               16075 non-null int64\n",
      "CROP               16075 non-null object\n",
      "AREA (HA)          16075 non-null object\n",
      "YIELD (MT/HA)      16047 non-null object\n",
      "PRODUCTION (MT)    16072 non-null object\n",
      "dtypes: int64(1), object(6)\n",
      "memory usage: 879.2+ KB\n"
     ]
    }
   ],
   "source": [
    "crop_production.info()"
   ]
  },
  {
   "cell_type": "markdown",
   "metadata": {},
   "source": [
    "Two Problems\n",
    "1 Some numeric columns have object data types and \n",
    "2 Some values are missing for yield and production columns"
   ]
  },
  {
   "cell_type": "markdown",
   "metadata": {},
   "source": [
    "But first will strip values in the object columns of whitespaces and replace the ','"
   ]
  },
  {
   "cell_type": "code",
   "execution_count": 6,
   "metadata": {},
   "outputs": [],
   "source": [
    "for column in crop_production.columns:\n",
    "    if column != 'YEAR':\n",
    "        crop_production[column] = crop_production[column].str.strip()\n",
    "        crop_production[column] = crop_production[column].str.replace(',','')\n",
    "        crop_production[column] = crop_production[column].replace('-',np.nan)"
   ]
  },
  {
   "cell_type": "code",
   "execution_count": 7,
   "metadata": {},
   "outputs": [
    {
     "name": "stdout",
     "output_type": "stream",
     "text": [
      "<class 'pandas.core.frame.DataFrame'>\n",
      "RangeIndex: 16075 entries, 0 to 16074\n",
      "Data columns (total 7 columns):\n",
      "REGION             16075 non-null object\n",
      "DISTRICT           16075 non-null object\n",
      "YEAR               16075 non-null int64\n",
      "CROP               16075 non-null object\n",
      "AREA (HA)          16075 non-null object\n",
      "YIELD (MT/HA)      16002 non-null object\n",
      "PRODUCTION (MT)    16002 non-null object\n",
      "dtypes: int64(1), object(6)\n",
      "memory usage: 879.2+ KB\n"
     ]
    }
   ],
   "source": [
    "crop_production.info()"
   ]
  },
  {
   "cell_type": "markdown",
   "metadata": {},
   "source": [
    "Solving problem 2"
   ]
  },
  {
   "cell_type": "code",
   "execution_count": 8,
   "metadata": {
    "scrolled": true
   },
   "outputs": [],
   "source": [
    "crop_production = crop_production.dropna()"
   ]
  },
  {
   "cell_type": "code",
   "execution_count": 9,
   "metadata": {},
   "outputs": [
    {
     "name": "stdout",
     "output_type": "stream",
     "text": [
      "<class 'pandas.core.frame.DataFrame'>\n",
      "Int64Index: 16002 entries, 0 to 16074\n",
      "Data columns (total 7 columns):\n",
      "REGION             16002 non-null object\n",
      "DISTRICT           16002 non-null object\n",
      "YEAR               16002 non-null int64\n",
      "CROP               16002 non-null object\n",
      "AREA (HA)          16002 non-null object\n",
      "YIELD (MT/HA)      16002 non-null object\n",
      "PRODUCTION (MT)    16002 non-null object\n",
      "dtypes: int64(1), object(6)\n",
      "memory usage: 1000.1+ KB\n"
     ]
    }
   ],
   "source": [
    "crop_production.info()"
   ]
  },
  {
   "cell_type": "markdown",
   "metadata": {},
   "source": [
    "Solving problem 1"
   ]
  },
  {
   "cell_type": "code",
   "execution_count": 10,
   "metadata": {},
   "outputs": [],
   "source": [
    "crop_production.loc[:,['AREA (HA)','YIELD (MT/HA)', 'PRODUCTION (MT)']] = crop_production.loc[:,['AREA (HA)','YIELD (MT/HA)', 'PRODUCTION (MT)']].astype(float)"
   ]
  },
  {
   "cell_type": "code",
   "execution_count": 11,
   "metadata": {
    "scrolled": false
   },
   "outputs": [
    {
     "name": "stdout",
     "output_type": "stream",
     "text": [
      "<class 'pandas.core.frame.DataFrame'>\n",
      "Int64Index: 16002 entries, 0 to 16074\n",
      "Data columns (total 7 columns):\n",
      "REGION             16002 non-null object\n",
      "DISTRICT           16002 non-null object\n",
      "YEAR               16002 non-null int64\n",
      "CROP               16002 non-null object\n",
      "AREA (HA)          16002 non-null float64\n",
      "YIELD (MT/HA)      16002 non-null float64\n",
      "PRODUCTION (MT)    16002 non-null float64\n",
      "dtypes: float64(3), int64(1), object(3)\n",
      "memory usage: 1000.1+ KB\n"
     ]
    }
   ],
   "source": [
    "crop_production.info()"
   ]
  },
  {
   "cell_type": "code",
   "execution_count": 14,
   "metadata": {},
   "outputs": [],
   "source": [
    "crop_production.index = np.arange(1, len(crop_production) + 1)"
   ]
  },
  {
   "cell_type": "code",
   "execution_count": 15,
   "metadata": {},
   "outputs": [],
   "source": [
    "crop_production.index.name = 'S/N'"
   ]
  },
  {
   "cell_type": "code",
   "execution_count": 16,
   "metadata": {},
   "outputs": [],
   "source": [
    "crop_production.to_csv('../data/cleaned_data.csv')"
   ]
  }
 ],
 "metadata": {
  "kernelspec": {
   "display_name": "Python 3",
   "language": "python",
   "name": "python3"
  },
  "language_info": {
   "codemirror_mode": {
    "name": "ipython",
    "version": 3
   },
   "file_extension": ".py",
   "mimetype": "text/x-python",
   "name": "python",
   "nbconvert_exporter": "python",
   "pygments_lexer": "ipython3",
   "version": "3.6.7"
  }
 },
 "nbformat": 4,
 "nbformat_minor": 2
}
