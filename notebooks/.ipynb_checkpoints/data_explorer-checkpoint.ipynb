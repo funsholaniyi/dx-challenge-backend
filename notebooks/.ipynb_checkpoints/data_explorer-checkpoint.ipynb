{
 "cells": [
  {
   "cell_type": "markdown",
   "metadata": {},
   "source": [
    "Author: Funsho Olaniyi\n",
    "\n",
    "Goal of this notebook is to Explore Data and Make sure values are not missing"
   ]
  },
  {
   "cell_type": "code",
   "execution_count": 1,
   "metadata": {},
   "outputs": [],
   "source": [
    "import pandas as pd"
   ]
  },
  {
   "cell_type": "code",
   "execution_count": 2,
   "metadata": {},
   "outputs": [],
   "source": [
    "crop_production = pd.read_csv(\"../data/ghana_production_estimates.csv\",encoding = \"latin\")"
   ]
  },
  {
   "cell_type": "code",
   "execution_count": null,
   "metadata": {},
   "outputs": [],
   "source": []
  },
  {
   "cell_type": "code",
   "execution_count": 3,
   "metadata": {
    "scrolled": true
   },
   "outputs": [
    {
     "data": {
      "text/html": [
       "<div>\n",
       "<style scoped>\n",
       "    .dataframe tbody tr th:only-of-type {\n",
       "        vertical-align: middle;\n",
       "    }\n",
       "\n",
       "    .dataframe tbody tr th {\n",
       "        vertical-align: top;\n",
       "    }\n",
       "\n",
       "    .dataframe thead th {\n",
       "        text-align: right;\n",
       "    }\n",
       "</style>\n",
       "<table border=\"1\" class=\"dataframe\">\n",
       "  <thead>\n",
       "    <tr style=\"text-align: right;\">\n",
       "      <th></th>\n",
       "      <th>REGION</th>\n",
       "      <th>DISTRICT</th>\n",
       "      <th>YEAR</th>\n",
       "      <th>CROP</th>\n",
       "      <th>AREA (HA)</th>\n",
       "      <th>YIELD (MT/HA)</th>\n",
       "      <th>PRODUCTION (MT)</th>\n",
       "    </tr>\n",
       "  </thead>\n",
       "  <tbody>\n",
       "    <tr>\n",
       "      <th>0</th>\n",
       "      <td>WESTERN</td>\n",
       "      <td>SHAMA AHANTA EAST</td>\n",
       "      <td>1993</td>\n",
       "      <td>MAIZE</td>\n",
       "      <td>366.00</td>\n",
       "      <td>0.95</td>\n",
       "      <td>348.00</td>\n",
       "    </tr>\n",
       "    <tr>\n",
       "      <th>1</th>\n",
       "      <td>WESTERN</td>\n",
       "      <td>WEST AHANTA</td>\n",
       "      <td>1993</td>\n",
       "      <td>MAIZE</td>\n",
       "      <td>1,513.00</td>\n",
       "      <td>1.00</td>\n",
       "      <td>1,513.00</td>\n",
       "    </tr>\n",
       "    <tr>\n",
       "      <th>2</th>\n",
       "      <td>WESTERN</td>\n",
       "      <td>MPORHOR WASSA EAST</td>\n",
       "      <td>1993</td>\n",
       "      <td>MAIZE</td>\n",
       "      <td>2,948.00</td>\n",
       "      <td>1.08</td>\n",
       "      <td>3,184.00</td>\n",
       "    </tr>\n",
       "    <tr>\n",
       "      <th>3</th>\n",
       "      <td>WESTERN</td>\n",
       "      <td>WASSA WEST</td>\n",
       "      <td>1993</td>\n",
       "      <td>MAIZE</td>\n",
       "      <td>3,672.00</td>\n",
       "      <td>1.00</td>\n",
       "      <td>3,672.00</td>\n",
       "    </tr>\n",
       "    <tr>\n",
       "      <th>4</th>\n",
       "      <td>WESTERN</td>\n",
       "      <td>EAST NZEMA</td>\n",
       "      <td>1993</td>\n",
       "      <td>MAIZE</td>\n",
       "      <td>1,050.00</td>\n",
       "      <td>0.85</td>\n",
       "      <td>893.00</td>\n",
       "    </tr>\n",
       "  </tbody>\n",
       "</table>\n",
       "</div>"
      ],
      "text/plain": [
       "    REGION            DISTRICT  YEAR   CROP   AREA (HA) YIELD (MT/HA)  \\\n",
       "0  WESTERN   SHAMA AHANTA EAST  1993  MAIZE     366.00          0.95    \n",
       "1  WESTERN         WEST AHANTA  1993  MAIZE   1,513.00          1.00    \n",
       "2  WESTERN  MPORHOR WASSA EAST  1993  MAIZE   2,948.00          1.08    \n",
       "3  WESTERN          WASSA WEST  1993  MAIZE   3,672.00          1.00    \n",
       "4  WESTERN          EAST NZEMA  1993  MAIZE   1,050.00          0.85    \n",
       "\n",
       "  PRODUCTION (MT)  \n",
       "0         348.00   \n",
       "1       1,513.00   \n",
       "2       3,184.00   \n",
       "3       3,672.00   \n",
       "4         893.00   "
      ]
     },
     "execution_count": 3,
     "metadata": {},
     "output_type": "execute_result"
    }
   ],
   "source": [
    "crop_production.head()"
   ]
  },
  {
   "cell_type": "code",
   "execution_count": 4,
   "metadata": {},
   "outputs": [],
   "source": [
    "crop_production.columns = crop_production.columns.str.strip()"
   ]
  },
  {
   "cell_type": "code",
   "execution_count": 5,
   "metadata": {
    "scrolled": true
   },
   "outputs": [
    {
     "name": "stdout",
     "output_type": "stream",
     "text": [
      "<class 'pandas.core.frame.DataFrame'>\n",
      "RangeIndex: 16075 entries, 0 to 16074\n",
      "Data columns (total 7 columns):\n",
      "REGION             16075 non-null object\n",
      "DISTRICT           16075 non-null object\n",
      "YEAR               16075 non-null int64\n",
      "CROP               16075 non-null object\n",
      "AREA (HA)          16075 non-null object\n",
      "YIELD (MT/HA)      16047 non-null object\n",
      "PRODUCTION (MT)    16072 non-null object\n",
      "dtypes: int64(1), object(6)\n",
      "memory usage: 879.2+ KB\n"
     ]
    }
   ],
   "source": [
    "crop_production.info()"
   ]
  },
  {
   "cell_type": "code",
   "execution_count": 6,
   "metadata": {},
   "outputs": [
    {
     "data": {
      "text/html": [
       "<div>\n",
       "<style scoped>\n",
       "    .dataframe tbody tr th:only-of-type {\n",
       "        vertical-align: middle;\n",
       "    }\n",
       "\n",
       "    .dataframe tbody tr th {\n",
       "        vertical-align: top;\n",
       "    }\n",
       "\n",
       "    .dataframe thead th {\n",
       "        text-align: right;\n",
       "    }\n",
       "</style>\n",
       "<table border=\"1\" class=\"dataframe\">\n",
       "  <thead>\n",
       "    <tr style=\"text-align: right;\">\n",
       "      <th></th>\n",
       "      <th>YEAR</th>\n",
       "    </tr>\n",
       "  </thead>\n",
       "  <tbody>\n",
       "    <tr>\n",
       "      <th>count</th>\n",
       "      <td>16075.000000</td>\n",
       "    </tr>\n",
       "    <tr>\n",
       "      <th>mean</th>\n",
       "      <td>2006.869176</td>\n",
       "    </tr>\n",
       "    <tr>\n",
       "      <th>std</th>\n",
       "      <td>7.255439</td>\n",
       "    </tr>\n",
       "    <tr>\n",
       "      <th>min</th>\n",
       "      <td>1993.000000</td>\n",
       "    </tr>\n",
       "    <tr>\n",
       "      <th>25%</th>\n",
       "      <td>2001.000000</td>\n",
       "    </tr>\n",
       "    <tr>\n",
       "      <th>50%</th>\n",
       "      <td>2008.000000</td>\n",
       "    </tr>\n",
       "    <tr>\n",
       "      <th>75%</th>\n",
       "      <td>2013.000000</td>\n",
       "    </tr>\n",
       "    <tr>\n",
       "      <th>max</th>\n",
       "      <td>2017.000000</td>\n",
       "    </tr>\n",
       "  </tbody>\n",
       "</table>\n",
       "</div>"
      ],
      "text/plain": [
       "               YEAR\n",
       "count  16075.000000\n",
       "mean    2006.869176\n",
       "std        7.255439\n",
       "min     1993.000000\n",
       "25%     2001.000000\n",
       "50%     2008.000000\n",
       "75%     2013.000000\n",
       "max     2017.000000"
      ]
     },
     "execution_count": 6,
     "metadata": {},
     "output_type": "execute_result"
    }
   ],
   "source": []
  }
 ],
 "metadata": {
  "kernelspec": {
   "display_name": "Python 3",
   "language": "python",
   "name": "python3"
  },
  "language_info": {
   "codemirror_mode": {
    "name": "ipython",
    "version": 3
   },
   "file_extension": ".py",
   "mimetype": "text/x-python",
   "name": "python",
   "nbconvert_exporter": "python",
   "pygments_lexer": "ipython3",
   "version": "3.6.7"
  }
 },
 "nbformat": 4,
 "nbformat_minor": 2
}
